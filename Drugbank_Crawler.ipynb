{
 "cells": [
  {
   "cell_type": "code",
   "execution_count": null,
   "metadata": {
    "scrolled": false
   },
   "outputs": [],
   "source": [
    "import requests\n",
    "from scrapy.http import TextResponse\n",
    "import urllib\n",
    "from pathlib import Path\n",
    "import os\n",
    "\n",
    "os.mkdir('svg')\n",
    "categories = [\n",
    "\"cardiovascular\",\n",
    "\"central nervous system\",\n",
    "\"anti-infective\",\n",
    "\"gastrointestinal\",\n",
    "\"anti-inflammatory\",\n",
    "\"dermatological\",\n",
    "\"hematologic\",\n",
    "\"lipid regulating\",\n",
    "\"reproductive control\",\n",
    "\"respiratory system\",\n",
    "\"urological\",\n",
    "\"antineoplastic\"]\n",
    "def drugCategory(category):\n",
    "    res1 = requests.get('https://www.drugbank.ca/categories?utf8=%E2%9C%93&approved=0&nutraceutical=0&illicit=0&investigational=0&withdrawn=0&experimental=0&us=0&ca=0&eu=0&commit=Apply+Filter&q%5Btitle%5D='+category+'&q%5Bdescription%5D=&q%5Bdrug_count%5D=&q%5Btarget_count%5D=')\n",
    "    response1 = TextResponse(res1.url, body=res1.text, encoding='utf-8')\n",
    "    l = []\n",
    "    for href in response1.css('a::attr(href)'):\n",
    "        if \"/categories/\" in href.extract():\n",
    "            l.append(\"https://www.drugbank.ca\"+href.extract())\n",
    "    l = list(set(l))\n",
    "    dlinks = []\n",
    "    dlinks1 = []\n",
    "    for link in l:\n",
    "        res2 = requests.get(link)\n",
    "        response2 = TextResponse(res2.url, body=res2.text, encoding='utf-8')\n",
    "        d=[]\n",
    "        for druglink in response2.css('a::attr(href)'):\n",
    "            if \"/drugs/\" in druglink.extract():\n",
    "                d.append(\"https://www.drugbank.ca\"+druglink.extract())\n",
    "                dlinks1.append(\"https://www.drugbank.ca\"+druglink.extract())\n",
    "        dlinks.append(list(set(d)))\n",
    "    return list(set(dlinks1))\n",
    "def storeImages(urls, folder):\n",
    "    os.mkdir(\"svg/\"+folder)\n",
    "    for i in urls:\n",
    "        img = i.split(\"/\")[-1]\n",
    "        imageLink = \"https://www.drugbank.ca/structures/\"+img+\"/image.svg\"\n",
    "        urllib.request.urlretrieve(imageLink, folder+\"/\"+img+\".svg\")\n",
    "for category in categories:\n",
    "    Path(category).mkdir(parents=True, exist_ok=True)\n",
    "    drugLinks = drugCategory(category)\n",
    "    print(category, len(drugLinks))\n",
    "    storeImages(drugLinks, category)"
   ]
  },
  {
   "cell_type": "code",
   "execution_count": null,
   "metadata": {},
   "outputs": [],
   "source": []
  }
 ],
 "metadata": {
  "kernelspec": {
   "display_name": "Python 3",
   "language": "python",
   "name": "python3"
  },
  "language_info": {
   "codemirror_mode": {
    "name": "ipython",
    "version": 3
   },
   "file_extension": ".py",
   "mimetype": "text/x-python",
   "name": "python",
   "nbconvert_exporter": "python",
   "pygments_lexer": "ipython3",
   "version": "3.7.3"
  }
 },
 "nbformat": 4,
 "nbformat_minor": 2
}
