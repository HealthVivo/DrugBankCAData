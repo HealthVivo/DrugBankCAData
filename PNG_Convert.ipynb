{
 "cells": [
  {
   "cell_type": "code",
   "execution_count": 19,
   "metadata": {},
   "outputs": [],
   "source": [
    "import os\n",
    "from svglib.svglib import svg2rlg\n",
    "from reportlab.graphics import renderPDF, renderPM\n",
    "from pathlib import Path\n",
    "\n",
    "categories = [\n",
    "\"cardiovascular\",\n",
    "\"central nervous system\",\n",
    "\"anti-infective\",\n",
    "\"gastrointestinal\",\n",
    "\"anti-inflammatory\",\n",
    "\"dermatological\",\n",
    "\"hematologic\",\n",
    "\"lipid regulating\",\n",
    "\"reproductive control\",\n",
    "\"respiratory system\",\n",
    "\"urological\",\n",
    "\"antineoplastic\"\n",
    "]\n",
    "for category in categories:\n",
    "    ct=0\n",
    "    Path(\"png/\"+category).mkdir(parents=True, exist_ok=True)\n",
    "    for svgFile in os.listdir(\"svg/\"+category):\n",
    "        if(os.path.getsize(\"svg/\"+category+\"/\"+svgFile)>414):\n",
    "            drawing = svg2rlg(\"svg/\"+category+\"/\"+svgFile)\n",
    "            renderPM.drawToFile(drawing, \"./png/\"+category+\"/\"+svgFile.split(\".\")[0]+\".png\", fmt=\"PNG\")\n",
    "            ct+=1\n",
    "    print(category, ct)"
   ]
  }
 ],
 "metadata": {
  "kernelspec": {
   "display_name": "Python 3",
   "language": "python",
   "name": "python3"
  },
  "language_info": {
   "codemirror_mode": {
    "name": "ipython",
    "version": 3
   },
   "file_extension": ".py",
   "mimetype": "text/x-python",
   "name": "python",
   "nbconvert_exporter": "python",
   "pygments_lexer": "ipython3",
   "version": "3.7.3"
  }
 },
 "nbformat": 4,
 "nbformat_minor": 2
}
